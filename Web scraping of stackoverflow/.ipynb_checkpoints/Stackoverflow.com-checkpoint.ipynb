{
 "cells": [
  {
   "cell_type": "code",
   "execution_count": 1,
   "metadata": {},
   "outputs": [],
   "source": [
    "import requests\n",
    "from requests_html import HTML\n",
    "import pandas as pd"
   ]
  },
  {
   "cell_type": "code",
   "execution_count": 51,
   "metadata": {},
   "outputs": [],
   "source": [
    "import time"
   ]
  },
  {
   "cell_type": "code",
   "execution_count": 2,
   "metadata": {},
   "outputs": [
    {
     "name": "stdout",
     "output_type": "stream",
     "text": [
      "https://stackoverflow.com/questions/tagged/python?tab=Votes\n"
     ]
    }
   ],
   "source": [
    "url = \"https://stackoverflow.com/questions/tagged/\"\n",
    "tag = \"python\"\n",
    "query_filter = \"Votes\"\n",
    "full_path = f\"{url}{tag}?tab={query_filter}\"\n",
    "print(full_path)"
   ]
  },
  {
   "cell_type": "code",
   "execution_count": 6,
   "metadata": {},
   "outputs": [],
   "source": [
    "r = requests.get(full_path)\n",
    "html_str = r.text\n",
    "# print(r.text)"
   ]
  },
  {
   "cell_type": "code",
   "execution_count": 7,
   "metadata": {
    "scrolled": true
   },
   "outputs": [
    {
     "name": "stdout",
     "output_type": "stream",
     "text": [
      "<HTML url='https://example.org/'>\n"
     ]
    }
   ],
   "source": [
    "html = HTML(html = html_str)\n",
    "print(html)"
   ]
  },
  {
   "cell_type": "code",
   "execution_count": 81,
   "metadata": {
    "scrolled": true
   },
   "outputs": [],
   "source": [
    "question_summaries = html.find('.question-summary')\n",
    "# print(summary)"
   ]
  },
  {
   "cell_type": "code",
   "execution_count": 28,
   "metadata": {
    "scrolled": false
   },
   "outputs": [
    {
     "name": "stdout",
     "output_type": "stream",
     "text": [
      "10296\n",
      "votes\n",
      "41answers\n",
      "2.3m views\n",
      "What does the “yield” keyword do?\n",
      "What is the use of the yield keyword in Python, and what does it do? For example, I'm trying to understand this code1: def _get_child_candidates(self, distance, min_dist, max_dist): if self....\n",
      "python iterator generator yield coroutine\n",
      "asked Oct 23 '08 at 22:21\n",
      "Alex. S.\n",
      "117k1515 gold badges4949 silver badges6161 bronze badges\n"
     ]
    }
   ],
   "source": [
    "print(question_summaries[0].text)"
   ]
  },
  {
   "cell_type": "code",
   "execution_count": 29,
   "metadata": {
    "scrolled": true
   },
   "outputs": [
    {
     "name": "stdout",
     "output_type": "stream",
     "text": [
      "['10296', 'votes', '41answers', '2.3m views', 'What does the “yield” keyword do?', \"What is the use of the yield keyword in Python, and what does it do? For example, I'm trying to understand this code1: def _get_child_candidates(self, distance, min_dist, max_dist): if self....\", 'python iterator generator yield coroutine', \"asked Oct 23 '08 at 22:21\", 'Alex. S.', '117k1515 gold badges4949 silver badges6161 bronze badges']\n"
     ]
    }
   ],
   "source": [
    "columns = ['votes', 'vote_title', 'num_answers', 'views', 'question', 'short_desc', 'tags', 'date', 'user', 'user_details']\n",
    "# question = list(question_summaries[0].text) this will not work\n",
    "# print(question)\n",
    "question = (question_summaries[0].text).split('\\n') #converting to list\n",
    "print(question)"
   ]
  },
  {
   "cell_type": "code",
   "execution_count": 30,
   "metadata": {},
   "outputs": [
    {
     "data": {
      "text/plain": [
       "True"
      ]
     },
     "execution_count": 30,
     "metadata": {},
     "output_type": "execute_result"
    }
   ],
   "source": [
    "len(columns) == len(question)"
   ]
  },
  {
   "cell_type": "code",
   "execution_count": 31,
   "metadata": {
    "scrolled": true
   },
   "outputs": [
    {
     "name": "stdout",
     "output_type": "stream",
     "text": [
      "votes 10296\n",
      "vote_title votes\n",
      "num_answers 41answers\n",
      "views 2.3m views\n",
      "question What does the “yield” keyword do?\n",
      "short_desc What is the use of the yield keyword in Python, and what does it do? For example, I'm trying to understand this code1: def _get_child_candidates(self, distance, min_dist, max_dist): if self....\n",
      "tags python iterator generator yield coroutine\n",
      "date asked Oct 23 '08 at 22:21\n",
      "user Alex. S.\n",
      "user_details 117k1515 gold badges4949 silver badges6161 bronze badges\n"
     ]
    }
   ],
   "source": [
    "for column,value in zip(columns, question): #zip combines 2 lists\n",
    "    print(column, value)"
   ]
  },
  {
   "cell_type": "code",
   "execution_count": 32,
   "metadata": {
    "scrolled": true
   },
   "outputs": [
    {
     "name": "stdout",
     "output_type": "stream",
     "text": [
      "{'votes': '10296', 'vote_title': 'votes', 'num_answers': '41answers', 'views': '2.3m views', 'question': 'What does the “yield” keyword do?', 'short_desc': \"What is the use of the yield keyword in Python, and what does it do? For example, I'm trying to understand this code1: def _get_child_candidates(self, distance, min_dist, max_dist): if self....\", 'tags': 'python iterator generator yield coroutine', 'date': \"asked Oct 23 '08 at 22:21\", 'user': 'Alex. S.', 'user_details': '117k1515 gold badges4949 silver badges6161 bronze badges'}\n"
     ]
    }
   ],
   "source": [
    "row_data = dict(zip(columns, question)) # zip with dict i.e. converting the zipped version of lists into dictionary\n",
    "print(row_data)"
   ]
  },
  {
   "cell_type": "code",
   "execution_count": 41,
   "metadata": {
    "scrolled": true
   },
   "outputs": [],
   "source": [
    "# key_names = ['question','votes','tags']\n",
    "# class_names = ['.question-hyperlink', '.votes','.tags'] # classes on stackverflow site\n",
    "# the_question_element = question_summaries[0]\n",
    "##print(the_question_element.find('.question-hyperlink', first = True).text) #What does the “yield” keyword do?\n",
    "#print(the_question_element.find('.votes', first= True).text.replace(\"\\nvotes\", \"\")) #10296"
   ]
  },
  {
   "cell_type": "code",
   "execution_count": 65,
   "metadata": {},
   "outputs": [],
   "source": [
    "def clean_scraped_data(sub_element, keyname= None):\n",
    "    if(keyname == 'votes'):\n",
    "        return sub_element.replace(\"\\nvotes\",\"\")\n",
    "    return sub_element"
   ]
  },
  {
   "cell_type": "code",
   "execution_count": 90,
   "metadata": {},
   "outputs": [],
   "source": [
    "def parse_tagged_page(html):\n",
    "    question_summaries = html.find('.question-summary')\n",
    "    key_names = ['question','votes','tags']\n",
    "    class_names = ['.question-hyperlink', '.votes','.tags'] # classes on stackverflow site\n",
    "    data = []\n",
    "    for question_summary in question_summaries:\n",
    "        question_data = {}\n",
    "        for i,_class in enumerate(class_names):\n",
    "            sub_element = question_summary.find(_class, first=True)\n",
    "            key_name = key_names[i]\n",
    "            question_data[key_name] = clean_scraped_data(sub_element.text, keyname = key_name)\n",
    "        data.append(question_data)\n",
    "    return data"
   ]
  },
  {
   "cell_type": "code",
   "execution_count": 49,
   "metadata": {
    "scrolled": false
   },
   "outputs": [
    {
     "data": {
      "text/plain": [
       "{'question': 'What does the “yield” keyword do?',\n",
       " 'votes': '10296',\n",
       " 'tags': 'python iterator generator yield coroutine'}"
      ]
     },
     "execution_count": 49,
     "metadata": {},
     "output_type": "execute_result"
    }
   ],
   "source": [
    "# scrape_data()\n",
    "# data[0]"
   ]
  },
  {
   "cell_type": "code",
   "execution_count": 91,
   "metadata": {},
   "outputs": [],
   "source": [
    "def extract_data_from_url(url):\n",
    "    r = requests.get(url)\n",
    "    if r.status_code not in range(200,299):\n",
    "        return []\n",
    "    html_str = r.text\n",
    "    html = HTML(html = html_str)\n",
    "    data = parse_tagged_page(html)\n",
    "    return data"
   ]
  },
  {
   "cell_type": "code",
   "execution_count": 96,
   "metadata": {},
   "outputs": [],
   "source": [
    "def scrape_tag(tag=\"python\", query_filter=\"Votes\", max_pages = 5, page_size= 10):\n",
    "    base_url = \"https://stackoverflow.com/questions/tagged/\"\n",
    "    complete_data = []\n",
    "    for i in range(max_pages):\n",
    "        page_num = i+1\n",
    "        url = f\"{base_url}{tag}?tab={query_filter}&page={page_num}&pagesize={page_size}\"\n",
    "        complete_data += extract_data_from_url(url)\n",
    "#         time.sleep(1.2)\n",
    "    return complete_data"
   ]
  },
  {
   "cell_type": "code",
   "execution_count": 97,
   "metadata": {
    "scrolled": true
   },
   "outputs": [
    {
     "name": "stdout",
     "output_type": "stream",
     "text": [
      "[{'question': 'What does the “yield” keyword do?', 'votes': '10296', 'tags': 'python iterator generator yield coroutine'}, {'question': 'What does if __name__ == “__main__”: do?', 'votes': '6135', 'tags': 'python namespaces main python-module idioms'}, {'question': 'Does Python have a ternary conditional operator?', 'votes': '6117', 'tags': 'python operators ternary-operator conditional-operator'}, {'question': 'What are metaclasses in Python?', 'votes': '5755', 'tags': 'python oop metaclass python-datamodel'}, {'question': 'How do I check whether a file exists without exceptions?', 'votes': '5660', 'tags': 'python file file-exists'}, {'question': 'Calling an external command from Python', 'votes': '4935', 'tags': 'python shell terminal subprocess command'}, {'question': 'How do I merge two dictionaries in a single expression in Python?', 'votes': '4879', 'tags': 'python dictionary merge'}, {'question': 'How can I safely create a nested directory?', 'votes': '4294', 'tags': 'python exception path directory operating-system'}, {'question': \"Accessing the index in 'for' loops?\", 'votes': '3654', 'tags': 'python loops list'}, {'question': 'Difference between staticmethod and classmethod', 'votes': '3622', 'tags': 'python oop methods python-decorators'}, {'question': \"Does Python have a string 'contains' substring method?\", 'votes': '3599', 'tags': 'python string substring contains'}, {'question': 'How do I list all files of a directory?', 'votes': '3472', 'tags': 'python directory'}, {'question': 'How to make a flat list out of list of lists?', 'votes': '3452', 'tags': 'python list multidimensional-array flatten'}, {'question': 'How do I sort a dictionary by value?', 'votes': '3422', 'tags': 'python sorting dictionary'}, {'question': 'Understanding slice notation', 'votes': '3347', 'tags': 'python list slice iterable'}, {'question': 'Finding the index of an item in a list', 'votes': '3236', 'tags': 'python list indexing'}, {'question': 'How do I check if a list is empty?', 'votes': '3234', 'tags': 'python list'}, {'question': \"Iterating over dictionaries using 'for' loops\", 'votes': '3180', 'tags': 'python python-2.7 dictionary'}, {'question': 'Using global variables in a function', 'votes': '3145', 'tags': 'python global-variables scope'}, {'question': \"What is the difference between Python's list methods append and extend?\", 'votes': '3116', 'tags': 'python list data-structures append extend'}, {'question': 'How to get the current time in Python', 'votes': '2940', 'tags': 'python datetime time'}, {'question': 'Catch multiple exceptions in one line (except block)', 'votes': '2791', 'tags': 'python exception exception-handling'}, {'question': 'How to make a chain of function decorators?', 'votes': '2766', 'tags': 'python decorator python-decorators'}, {'question': 'How can I make a time delay in Python? [duplicate]', 'votes': '2766', 'tags': 'python delay sleep timedelay'}, {'question': 'Difference between __str__ and __repr__?', 'votes': '2755', 'tags': 'python magic-methods repr'}, {'question': 'Check if a given key already exists in a dictionary', 'votes': '2683', 'tags': 'python dictionary'}, {'question': 'How can I add new keys to a dictionary?', 'votes': '2660', 'tags': 'python dictionary lookup'}, {'question': 'How do I pass a variable by reference?', 'votes': '2659', 'tags': 'python reference parameter-passing pass-by-reference'}, {'question': '“Least Astonishment” and the Mutable Default Argument', 'votes': '2614', 'tags': 'python language-design default-parameters least-astonishment'}, {'question': 'List changes unexpectedly after assignment. How do I clone or copy it to prevent this?', 'votes': '2592', 'tags': 'python list copy clone'}, {'question': 'How do I concatenate two lists in Python?', 'votes': '2575', 'tags': 'python list concatenation'}, {'question': 'Understanding Python super() with __init__() methods [duplicate]', 'votes': '2555', 'tags': 'python class oop inheritance super'}, {'question': 'How to install pip on Windows?', 'votes': '2549', 'tags': 'python windows installation pip easy-install'}, {'question': 'How do I copy a file in Python?', 'votes': '2536', 'tags': 'python file copy filesystems file-copying'}, {'question': 'What does ** (double star/asterisk) and * (star/asterisk) do for parameters?', 'votes': '2388', 'tags': 'python syntax parameter-passing variadic-functions argument-unpacking'}, {'question': 'What is __init__.py for?', 'votes': '2376', 'tags': 'python module package python-packaging'}, {'question': 'Convert bytes to a string', 'votes': '2375', 'tags': 'python string python-3.x'}, {'question': 'Manually raising (throwing) an exception in Python', 'votes': '2305', 'tags': 'python exception'}, {'question': 'How do you split a list into evenly sized chunks?', 'votes': '2303', 'tags': 'python list split chunks'}, {'question': 'How do I parse a string to a float or int?', 'votes': '2271', 'tags': 'python parsing floating-point type-conversion integer'}, {'question': \"Find current directory and file's directory [duplicate]\", 'votes': '2245', 'tags': 'python directory'}, {'question': 'Converting string into datetime', 'votes': '2204', 'tags': 'python datetime'}, {'question': 'How to delete a file or folder?', 'votes': '2182', 'tags': 'python file-io directory delete-file'}, {'question': 'How do I get a substring of a string in Python?', 'votes': '2173', 'tags': 'python string substring'}, {'question': 'How to print colored text in Python?', 'votes': '2168', 'tags': 'python terminal output ansi-colors'}, {'question': 'Why is “1000000000000000 in range(1000000000000001)” so fast in Python 3?', 'votes': '2157', 'tags': 'python performance python-3.x range python-internals'}, {'question': 'How to access environment variable values?', 'votes': '2152', 'tags': 'python environment-variables'}, {'question': 'How do you change the size of figures drawn with matplotlib?', 'votes': '2098', 'tags': 'python graph matplotlib plot visualization'}, {'question': 'Getting the last element of a list', 'votes': '2095', 'tags': 'python list indexing'}, {'question': 'Is there a way to run Python on Android?', 'votes': '2092', 'tags': 'android python jython ase android-scripting'}, {'question': 'How do I lowercase a string in Python?', 'votes': '2081', 'tags': 'python string uppercase lowercase'}, {'question': 'How to upgrade all Python packages with pip?', 'votes': '2071', 'tags': 'python pip'}, {'question': 'How to iterate over rows in a DataFrame in Pandas', 'votes': '2036', 'tags': 'python pandas rows dataframe'}, {'question': 'How to read a file line-by-line into a list?', 'votes': '2027', 'tags': 'python string file readlines'}, {'question': 'How to select rows from a DataFrame based on column values?', 'votes': '2019', 'tags': 'python pandas dataframe'}, {'question': 'Are static class variables possible in Python?', 'votes': '1963', 'tags': 'python class oop static class-variables'}, {'question': 'How do I get the number of elements in a list?', 'votes': '1951', 'tags': 'python list'}, {'question': 'How do I sort a list of dictionaries by a value of the dictionary?', 'votes': '1925', 'tags': 'python list sorting dictionary data-structures'}, {'question': 'How to print without newline or space?', 'votes': '1882', 'tags': 'python newline'}, {'question': 'Renaming columns in pandas', 'votes': '1865', 'tags': 'python pandas replace dataframe rename'}, {'question': 'Why is reading lines from stdin much slower in C++ than Python?', 'votes': '1864', 'tags': 'python c++ benchmarking iostream getline'}, {'question': 'How to remove a key from a Python dictionary?', 'votes': '1813', 'tags': 'python dictionary data-structures unset'}, {'question': 'Determine the type of an object?', 'votes': '1795', 'tags': 'python dictionary types typeof'}, {'question': 'How to randomly select an item from a list?', 'votes': '1780', 'tags': 'python list random'}, {'question': 'Why is it string.join(list) instead of list.join(string)?', 'votes': '1768', 'tags': 'python string list'}, {'question': 'Calling a function of a module by using its name (a string)', 'votes': '1757', 'tags': 'python object'}, {'question': 'Static methods in Python?', 'votes': '1732', 'tags': 'python static-methods'}, {'question': 'Replacements for switch statement in Python?', 'votes': '1718', 'tags': 'python switch-statement'}, {'question': 'Limiting floats to two decimal points', 'votes': '1703', 'tags': 'python floating-point rounding precision'}, {'question': 'How can I remove a trailing newline?', 'votes': '1699', 'tags': 'python newline trailing'}, {'question': 'How do I install pip on macOS or OS X?', 'votes': '1675', 'tags': 'python macos pip installation'}, {'question': 'How to know if an object has an attribute in Python', 'votes': '1653', 'tags': 'python attributes'}, {'question': 'How to leave/exit/deactivate a Python virtualenv', 'votes': '1630', 'tags': 'python virtualenv virtualenvwrapper'}, {'question': 'How do I check if a string is a number (float)?', 'votes': '1622', 'tags': 'python casting floating-point type-conversion'}, {'question': 'Meaning of @classmethod and @staticmethod for beginner? [duplicate]', 'votes': '1607', 'tags': 'python oop static-methods class-method'}, {'question': \"How to determine a Python variable's type?\", 'votes': '1594', 'tags': 'python types unsigned signed 16-bit'}, {'question': 'How do you append to a file in Python?', 'votes': '1592', 'tags': 'python file append'}, {'question': 'How can I count the occurrences of a list item?', 'votes': '1546', 'tags': 'python list count'}, {'question': 'How can I print literal curly-brace characters in python string and also use .format on it?', 'votes': '1541', 'tags': 'python string format string-formatting curly-braces'}, {'question': 'How to remove an element from a list by index', 'votes': '1527', 'tags': 'python list'}, {'question': 'How do you read from stdin?', 'votes': '1481', 'tags': 'python stdin'}, {'question': 'How to pad zeroes to a string?', 'votes': '1466', 'tags': 'python string zero-padding'}, {'question': 'Getting the class name of an instance?', 'votes': '1452', 'tags': 'python introspection instanceof python-datamodel'}, {'question': 'Importing files from different folder', 'votes': '1443', 'tags': 'python importerror python-import'}, {'question': \"Why can't Python parse this JSON data?\", 'votes': '1443', 'tags': 'python json parsing'}, {'question': 'How to check if the string is empty?', 'votes': '1434', 'tags': 'python string comparison-operators'}, {'question': 'Delete an element from a dictionary', 'votes': '1433', 'tags': 'python dictionary del'}, {'question': 'Use of *args and **kwargs [duplicate]', 'votes': '1423', 'tags': 'python args kwargs'}, {'question': 'Hidden features of Python [closed]', 'votes': '1418', 'tags': 'python hidden-features'}, {'question': 'Delete column from pandas DataFrame', 'votes': '1376', 'tags': 'python pandas dataframe'}, {'question': 'Converting integer to string?', 'votes': '1370', 'tags': 'python string integer'}, {'question': 'Generate random integers between 0 and 9', 'votes': '1362', 'tags': 'python random integer'}, {'question': 'How to print to stderr in Python?', 'votes': '1358', 'tags': 'python printing stderr zen-of-python'}, {'question': 'Reverse a string in Python', 'votes': '1354', 'tags': 'python string'}, {'question': 'String formatting: % vs. .format', 'votes': '1350', 'tags': 'python performance logging string-formatting f-string'}, {'question': 'Random string generation with upper case letters and digits', 'votes': '1349', 'tags': 'python string random'}, {'question': 'Installing specific package versions with pip', 'votes': '1339', 'tags': 'python mysql pip pypi mysql-python'}, {'question': 'Extracting extension from filename in Python', 'votes': '1324', 'tags': 'python filenames file-extension'}, {'question': 'Pythonic way to create a long multi-line string', 'votes': '1323', 'tags': 'python string multiline multilinestring'}, {'question': \"UnicodeEncodeError: 'ascii' codec can't encode character u'\\\\xa0' in position 20: ordinal not in range(128)\", 'votes': '1309', 'tags': 'python unicode beautifulsoup python-2.x python-unicode'}, {'question': 'What is the meaning of single and double underscore before an object name?', 'votes': '1309', 'tags': 'python oop naming-conventions'}, {'question': 'Proper way to declare custom exceptions in modern Python?', 'votes': '1308', 'tags': 'python exception custom-exceptions'}, {'question': \"What's the canonical way to check for type in Python?\", 'votes': '1296', 'tags': 'python types'}, {'question': 'How can you profile a Python script?', 'votes': '1293', 'tags': 'python performance profiling time-complexity'}, {'question': 'How can I use threading in Python?', 'votes': '1290', 'tags': 'python multithreading concurrency python-multithreading'}, {'question': 'Create a dictionary with list comprehension', 'votes': '1289', 'tags': 'python dictionary list-comprehension dictionary-comprehension'}, {'question': 'Python class inherits object', 'votes': '1265', 'tags': 'python class oop object inheritance'}, {'question': 'What is the Python 3 equivalent of “python -m SimpleHTTPServer”', 'votes': '1262', 'tags': 'python python-3.x httpserver simplehttpserver'}, {'question': 'What are the differences between type() and isinstance()?', 'votes': '1260', 'tags': 'python oop inheritance types'}, {'question': 'Convert two lists into a dictionary', 'votes': '1258', 'tags': 'python list dictionary'}, {'question': 'How to measure elapsed time in Python?', 'votes': '1232', 'tags': 'python performance measure timeit'}, {'question': 'How to flush output of print function?', 'votes': '1232', 'tags': 'python python-3.x printing flush'}, {'question': 'fatal error: Python.h: No such file or directory', 'votes': '1225', 'tags': 'python gcc python-c-api'}, {'question': 'How do I check what version of Python is running my script?', 'votes': '1204', 'tags': 'python version'}, {'question': 'Referring to the null object in Python', 'votes': '1202', 'tags': 'python null'}, {'question': 'Save plot to image file instead of displaying it using Matplotlib', 'votes': '1175', 'tags': 'python matplotlib plot'}, {'question': 'How do I connect to a MySQL Database in Python?', 'votes': '1169', 'tags': 'python mysql'}, {'question': 'How to import a module given the full path?', 'votes': '1168', 'tags': 'python configuration python-import python-module'}, {'question': 'How do I trim whitespace from a string?', 'votes': '1167', 'tags': 'python string trim'}, {'question': 'Is there a way to create multiline comments in Python?', 'votes': '1164', 'tags': 'python comments documentation'}, {'question': \"Why does comparing strings using either '==' or 'is' sometimes produce a different result?\", 'votes': '1156', 'tags': 'python string comparison identity equality'}, {'question': 'How do I write JSON data to a file?', 'votes': '1153', 'tags': 'python json'}, {'question': 'How to find if directory exists in Python', 'votes': '1152', 'tags': 'python directory'}, {'question': \"How can I represent an 'Enum' in Python?\", 'votes': '1143', 'tags': 'python python-3.x enums'}, {'question': \"What is the purpose of the word 'self'?\", 'votes': '1139', 'tags': 'python class oop self'}, {'question': 'Does Django scale? [closed]', 'votes': '1139', 'tags': 'python django web-applications scalability'}, {'question': 'Use different Python version with virtualenv', 'votes': '1135', 'tags': 'python virtualenv virtualenvwrapper'}, {'question': 'Selecting multiple columns in a pandas dataframe', 'votes': '1131', 'tags': 'python pandas dataframe select'}, {'question': 'How to install packages using pip according to the requirements.txt file from a local directory?', 'votes': '1105', 'tags': 'python virtualenv pip'}, {'question': 'How to terminate a Python script', 'votes': '1104', 'tags': 'python termination'}, {'question': 'If Python is interpreted, what are .pyc files?', 'votes': '1096', 'tags': 'python compiled interpreted-language pyc'}, {'question': 'In Python, how do I determine if an object is iterable?', 'votes': '1096', 'tags': 'python iterable'}, {'question': 'How to prettyprint a JSON file?', 'votes': '1089', 'tags': 'python json formatting pretty-print'}, {'question': 'Correct way to write line to file?', 'votes': '1082', 'tags': 'python file-io'}, {'question': 'How can I do a line break (line continuation) in Python?', 'votes': '1079', 'tags': 'python syntax line-breaks long-lines'}, {'question': 'How do I return multiple values from a function? [closed]', 'votes': '1078', 'tags': 'python coding-style return return-value'}, {'question': 'How do I trim whitespace?', 'votes': '1076', 'tags': 'python string whitespace trim strip'}, {'question': 'Why do people write the #!/usr/bin/env python shebang on the first line of a Python script?', 'votes': '1058', 'tags': 'python shell shebang'}, {'question': 'What is the difference between venv, pyvenv, pyenv, virtualenv, virtualenvwrapper, pipenv, etc?', 'votes': '1055', 'tags': 'python virtualenv virtualenvwrapper pyenv python-venv'}, {'question': 'How to get the ASCII value of a character', 'votes': '1049', 'tags': 'python ascii'}, {'question': 'How can I reverse a list in Python?', 'votes': '1045', 'tags': 'python list'}, {'question': 'Find all files in a directory with extension .txt in Python', 'votes': '1043', 'tags': 'python file-io'}, {'question': \"What's the difference between lists and tuples?\", 'votes': '1028', 'tags': 'python list tuples'}, {'question': 'Get list from pandas DataFrame column headers', 'votes': '1027', 'tags': 'python pandas dataframe'}, {'question': 'How to get line count of a large file cheaply in Python?', 'votes': '1027', 'tags': 'python text-files line-count'}, {'question': 'What IDE to use for Python? [closed]', 'votes': '1027', 'tags': 'python ide editor'}, {'question': 'How to get the filename without the extension from a path in Python?', 'votes': '1025', 'tags': 'python string path'}, {'question': 'How do I parse XML in Python?', 'votes': '1017', 'tags': 'python xml'}, {'question': 'What is setup.py?', 'votes': '1017', 'tags': 'python python-3.x setup.py pypi python-packaging'}, {'question': 'Removing duplicates in lists', 'votes': '1016', 'tags': 'python algorithm list duplicates intersection'}, {'question': 'How to put the legend out of the plot', 'votes': '1010', 'tags': 'python matplotlib legend'}, {'question': 'How do I create a constant in Python?', 'votes': '1010', 'tags': 'python constants'}, {'question': 'How can I check for NaN values?', 'votes': '1009', 'tags': 'python math'}, {'question': 'How can I get a list of locally installed Python modules?', 'votes': '1004', 'tags': 'python module pip'}, {'question': \"How do I get time of a Python program's execution?\", 'votes': '1003', 'tags': 'python time execution-time'}, {'question': 'Adding new column to existing DataFrame in Python pandas', 'votes': '1001', 'tags': 'python pandas dataframe chained-assignment'}, {'question': 'What is the difference between old style and new style classes in Python?', 'votes': '1001', 'tags': 'python class oop types new-style-class'}, {'question': 'Can someone explain __all__ in Python?', 'votes': '994', 'tags': 'python syntax namespaces'}, {'question': 'How does the @property decorator work?', 'votes': '993', 'tags': 'python properties decorator python-decorators python-internals'}, {'question': '“Large data” work flows using pandas', 'votes': '990', 'tags': 'python mongodb pandas hdf5 large-data'}, {'question': 'What is the use of “assert” in Python?', 'votes': '975', 'tags': 'python assert assertions'}, {'question': 'How do I check if a variable exists?', 'votes': '973', 'tags': 'python exception variables'}, {'question': 'How to read a text file into a string variable and strip newlines?', 'votes': '969', 'tags': 'python string'}, {'question': 'Is there a built-in function to print all the current properties and values of an object?', 'votes': '968', 'tags': 'python debugging introspection pretty-print python-datamodel'}, {'question': 'How do I get the row count of a pandas DataFrame?', 'votes': '968', 'tags': 'python pandas dataframe'}, {'question': 'Creating a singleton in Python', 'votes': '965', 'tags': 'python singleton decorator base-class metaclass'}, {'question': 'What is a mixin, and why are they useful?', 'votes': '963', 'tags': 'python oop multiple-inheritance mixins'}, {'question': 'Count the number occurrences of a character in a string', 'votes': '961', 'tags': 'python string count'}, {'question': 'How can I sort a dictionary by key?', 'votes': '958', 'tags': 'python sorting dictionary'}, {'question': 'How do I find the location of my Python site-packages directory?', 'votes': '957', 'tags': 'python installation'}, {'question': 'Is there a simple way to delete a list element by value?', 'votes': '953', 'tags': 'python list'}, {'question': 'How to get file creation & modification date/times in Python?', 'votes': '949', 'tags': 'python file'}, {'question': 'Difference between del, remove and pop on lists', 'votes': '948', 'tags': 'python list'}, {'question': 'Why use pip over easy_install? [closed]', 'votes': '936', 'tags': 'python pip setuptools easy-install pypi'}, {'question': 'How to remove items from a list while iterating?', 'votes': '934', 'tags': 'python iteration'}, {'question': 'Why are Python lambdas useful? [closed]', 'votes': '929', 'tags': 'python function lambda closures'}, {'question': 'Display number with leading zeros', 'votes': '928', 'tags': 'python integer string-formatting'}, {'question': \"Should I use 'has_key()' or 'in' on Python dicts?\", 'votes': '925', 'tags': 'python dictionary'}, {'question': 'if/else in a list comprehension', 'votes': '925', 'tags': 'python list-comprehension'}, {'question': 'Running shell command and capturing the output', 'votes': '923', 'tags': 'python shell subprocess'}, {'question': 'How to move a file?', 'votes': '921', 'tags': 'python file file-handling'}, {'question': 'differentiate null=True, blank=True in django', 'votes': '918', 'tags': 'python django django-models'}, {'question': 'What are “named tuples” in Python?', 'votes': '915', 'tags': 'python tuples namedtuple'}, {'question': 'Checking whether a variable is an integer or not [duplicate]', 'votes': '914', 'tags': 'python'}, {'question': 'Putting a simple if-then-else statement on one line [duplicate]', 'votes': '913', 'tags': 'python if-statement syntax ternary-operator'}, {'question': 'How to change the order of DataFrame columns?', 'votes': '903', 'tags': 'python pandas dataframe'}, {'question': 'What is the standard Python docstring format? [closed]', 'votes': '902', 'tags': 'python coding-style documentation docstring'}, {'question': 'Add one row to pandas DataFrame', 'votes': '901', 'tags': 'python pandas dataframe append'}, {'question': \"How does Python's super() work with multiple inheritance?\", 'votes': '900', 'tags': 'python multiple-inheritance'}, {'question': 'Getting key with maximum value in dictionary?', 'votes': '888', 'tags': 'python dictionary max'}, {'question': 'How do I install a Python package with a .whl file?', 'votes': '887', 'tags': 'python pip python-wheel downloadfile jpype'}, {'question': 'Best way to convert string to bytes in Python 3?', 'votes': '885', 'tags': 'python string character-encoding python-3.x'}, {'question': 'How do I download a file over HTTP using Python?', 'votes': '884', 'tags': 'python http urllib'}, {'question': 'How to iterate through two lists in parallel?', 'votes': '882', 'tags': 'python list for-loop iterator'}, {'question': 'Peak detection in a 2D array', 'votes': '877', 'tags': 'python image-processing'}, {'question': 'How to copy a dictionary and only edit the copy', 'votes': '872', 'tags': 'python python-3.x dictionary reference'}, {'question': 'list comprehension vs. lambda + filter', 'votes': '867', 'tags': 'python list functional-programming filter lambda'}, {'question': 'How do I remove/delete a folder that is not empty?', 'votes': '859', 'tags': 'python file'}, {'question': 'How to get the home directory in Python?', 'votes': '856', 'tags': 'python cross-platform home-directory'}, {'question': 'error: Unable to find vcvarsall.bat', 'votes': '852', 'tags': 'python windows pip setup.py failed-installation'}, {'question': 'Should I put #! (shebang) in Python scripts, and what form should it take?', 'votes': '852', 'tags': 'python shell python-3.x shebang'}, {'question': \"What does the 'b' character do in front of a string literal?\", 'votes': '850', 'tags': 'python string unicode binary'}, {'question': 'How to make a class JSON serializable', 'votes': '847', 'tags': 'python json serialization'}, {'question': 'Converting unix timestamp string to readable date', 'votes': '841', 'tags': 'python datetime unix-timestamp strftime'}, {'question': 'Why does Python code run faster in a function?', 'votes': '840', 'tags': 'python performance profiling benchmarking cpython'}, {'question': \"Python's equivalent of && (logical-and) in an if-statement\", 'votes': '838', 'tags': 'python if-statement keyword logical-operators and-operator'}, {'question': 'How to make IPython notebook matplotlib plot inline', 'votes': '836', 'tags': 'python matplotlib jupyter-notebook ipython data-visualization'}, {'question': 'Fastest way to check if a value exists in a list', 'votes': '833', 'tags': 'python performance list'}, {'question': 'pip install mysql-python fails with EnvironmentError: mysql_config not found', 'votes': '830', 'tags': 'python pip mysql-python'}, {'question': \"How do I get the full path of the current file's directory?\", 'votes': '829', 'tags': 'python directory'}, {'question': 'Change data type of columns in Pandas', 'votes': '828', 'tags': 'python pandas dataframe types casting'}, {'question': 'Get difference between two lists', 'votes': '822', 'tags': 'python performance list set set-difference'}, {'question': 'Multiprocessing vs Threading Python [duplicate]', 'votes': '822', 'tags': 'python multithreading multiprocessing'}, {'question': 'mkdir -p functionality in Python [duplicate]', 'votes': '821', 'tags': 'python mkdir'}, {'question': 'How to sort a list of objects based on an attribute of the objects?', 'votes': '814', 'tags': 'python list sorting oop count'}, {'question': 'Emulate a do-while loop in Python?', 'votes': '814', 'tags': 'python while-loop do-while'}, {'question': 'Extract file name from path, no matter what the os/path format', 'votes': '813', 'tags': 'python'}, {'question': 'Python integer incrementing with ++ [duplicate]', 'votes': '812', 'tags': 'python syntax increment'}, {'question': 'How to import other Python files?', 'votes': '810', 'tags': 'python python-import'}, {'question': 'How to return dictionary keys as a list in Python?', 'votes': '810', 'tags': 'python python-3.x list dictionary python-2.x'}, {'question': 'Behaviour of increment and decrement operators in Python', 'votes': '808', 'tags': 'python operators increment decrement'}, {'question': 'How to convert list to string [duplicate]', 'votes': '806', 'tags': 'python string list'}, {'question': 'pg_config executable not found', 'votes': '805', 'tags': 'python pip psycopg2'}, {'question': 'Remove all whitespace in a string', 'votes': '804', 'tags': 'python trim removing-whitespace'}, {'question': 'What __init__ and self do on Python?', 'votes': '804', 'tags': 'python oop self'}, {'question': 'How do I unload (reload) a Python module?', 'votes': '803', 'tags': 'python module reload python-import'}, {'question': 'Get unique values from a list in python [duplicate]', 'votes': '801', 'tags': 'python'}, {'question': 'How to print the full traceback without halting the program?', 'votes': '799', 'tags': 'python exception-handling'}, {'question': 'python setup.py uninstall', 'votes': '792', 'tags': 'python setup.py pypi'}, {'question': 'How to properly ignore exceptions', 'votes': '785', 'tags': 'python exception try-except'}, {'question': 'Using Python 3 in virtualenv', 'votes': '784', 'tags': 'python python-3.x virtualenv'}, {'question': 'How do you test that a Python function throws an exception?', 'votes': '784', 'tags': 'python unit-testing exception exception-handling'}, {'question': 'Convert a String representation of a Dictionary to a dictionary?', 'votes': '781', 'tags': 'python string dictionary'}, {'question': 'How to remove the first Item from a list?', 'votes': '781', 'tags': 'python arrays list'}, {'question': 'What is the naming convention in Python for variable and function names?', 'votes': '780', 'tags': 'python variables function naming-conventions'}, {'question': 'Shuffling a list of objects', 'votes': '778', 'tags': 'python list random shuffle'}, {'question': 'How do you remove duplicates from a list whilst preserving order?', 'votes': '778', 'tags': 'python list duplicates unique'}, {'question': 'Convert hex string to int in Python', 'votes': '778', 'tags': 'python string hex'}, {'question': 'Usage of __slots__?', 'votes': '775', 'tags': 'python oop python-internals slots'}, {'question': 'How to check if type of a variable is string?', 'votes': '775', 'tags': 'python string variables types'}, {'question': 'How to subtract a day from a date?', 'votes': '774', 'tags': 'python datetime date'}, {'question': 'How can I check file size in Python?', 'votes': '771', 'tags': 'python file'}, {'question': 'How to drop rows of Pandas DataFrame whose value in a certain column is NaN', 'votes': '771', 'tags': 'python pandas dataframe nan'}, {'question': 'Is there any way to kill a Thread?', 'votes': '771', 'tags': 'python multithreading kill terminate'}, {'question': \"How to retrieve a module's path?\", 'votes': '770', 'tags': 'python module inotify'}, {'question': 'How to print number with commas as thousands separators?', 'votes': '768', 'tags': 'python number-formatting'}, {'question': 'What is the purpose and use of **kwargs?', 'votes': '768', 'tags': 'python kwargs'}, {'question': 'Maximum and Minimum values for ints', 'votes': '766', 'tags': 'python integer'}, {'question': 'Import a module from a relative path', 'votes': '763', 'tags': 'python relative-path python-import'}, {'question': 'Python `if x is not None` or `if not x is None`?', 'votes': '761', 'tags': 'python coding-style nonetype boolean-expression pep8'}]\n"
     ]
    }
   ],
   "source": [
    "datas = scrape_tag()\n",
    "print(datas)"
   ]
  },
  {
   "cell_type": "code",
   "execution_count": 98,
   "metadata": {},
   "outputs": [
    {
     "data": {
      "text/plain": [
       "250"
      ]
     },
     "execution_count": 98,
     "metadata": {},
     "output_type": "execute_result"
    }
   ],
   "source": [
    "len(datas)"
   ]
  },
  {
   "cell_type": "code",
   "execution_count": 100,
   "metadata": {},
   "outputs": [
    {
     "data": {
      "text/html": [
       "<div>\n",
       "<style scoped>\n",
       "    .dataframe tbody tr th:only-of-type {\n",
       "        vertical-align: middle;\n",
       "    }\n",
       "\n",
       "    .dataframe tbody tr th {\n",
       "        vertical-align: top;\n",
       "    }\n",
       "\n",
       "    .dataframe thead th {\n",
       "        text-align: right;\n",
       "    }\n",
       "</style>\n",
       "<table border=\"1\" class=\"dataframe\">\n",
       "  <thead>\n",
       "    <tr style=\"text-align: right;\">\n",
       "      <th></th>\n",
       "      <th>question</th>\n",
       "      <th>votes</th>\n",
       "      <th>tags</th>\n",
       "    </tr>\n",
       "  </thead>\n",
       "  <tbody>\n",
       "    <tr>\n",
       "      <th>0</th>\n",
       "      <td>What does the “yield” keyword do?</td>\n",
       "      <td>10296</td>\n",
       "      <td>python iterator generator yield coroutine</td>\n",
       "    </tr>\n",
       "    <tr>\n",
       "      <th>1</th>\n",
       "      <td>What does if __name__ == “__main__”: do?</td>\n",
       "      <td>6135</td>\n",
       "      <td>python namespaces main python-module idioms</td>\n",
       "    </tr>\n",
       "    <tr>\n",
       "      <th>2</th>\n",
       "      <td>Does Python have a ternary conditional operator?</td>\n",
       "      <td>6117</td>\n",
       "      <td>python operators ternary-operator conditional-...</td>\n",
       "    </tr>\n",
       "    <tr>\n",
       "      <th>3</th>\n",
       "      <td>What are metaclasses in Python?</td>\n",
       "      <td>5755</td>\n",
       "      <td>python oop metaclass python-datamodel</td>\n",
       "    </tr>\n",
       "    <tr>\n",
       "      <th>4</th>\n",
       "      <td>How do I check whether a file exists without e...</td>\n",
       "      <td>5660</td>\n",
       "      <td>python file file-exists</td>\n",
       "    </tr>\n",
       "    <tr>\n",
       "      <th>5</th>\n",
       "      <td>Calling an external command from Python</td>\n",
       "      <td>4935</td>\n",
       "      <td>python shell terminal subprocess command</td>\n",
       "    </tr>\n",
       "    <tr>\n",
       "      <th>6</th>\n",
       "      <td>How do I merge two dictionaries in a single ex...</td>\n",
       "      <td>4879</td>\n",
       "      <td>python dictionary merge</td>\n",
       "    </tr>\n",
       "    <tr>\n",
       "      <th>7</th>\n",
       "      <td>How can I safely create a nested directory?</td>\n",
       "      <td>4294</td>\n",
       "      <td>python exception path directory operating-system</td>\n",
       "    </tr>\n",
       "    <tr>\n",
       "      <th>8</th>\n",
       "      <td>Accessing the index in 'for' loops?</td>\n",
       "      <td>3654</td>\n",
       "      <td>python loops list</td>\n",
       "    </tr>\n",
       "    <tr>\n",
       "      <th>9</th>\n",
       "      <td>Difference between staticmethod and classmethod</td>\n",
       "      <td>3622</td>\n",
       "      <td>python oop methods python-decorators</td>\n",
       "    </tr>\n",
       "  </tbody>\n",
       "</table>\n",
       "</div>"
      ],
      "text/plain": [
       "                                            question  votes  \\\n",
       "0                  What does the “yield” keyword do?  10296   \n",
       "1           What does if __name__ == “__main__”: do?   6135   \n",
       "2   Does Python have a ternary conditional operator?   6117   \n",
       "3                    What are metaclasses in Python?   5755   \n",
       "4  How do I check whether a file exists without e...   5660   \n",
       "5            Calling an external command from Python   4935   \n",
       "6  How do I merge two dictionaries in a single ex...   4879   \n",
       "7        How can I safely create a nested directory?   4294   \n",
       "8                Accessing the index in 'for' loops?   3654   \n",
       "9    Difference between staticmethod and classmethod   3622   \n",
       "\n",
       "                                                tags  \n",
       "0          python iterator generator yield coroutine  \n",
       "1        python namespaces main python-module idioms  \n",
       "2  python operators ternary-operator conditional-...  \n",
       "3              python oop metaclass python-datamodel  \n",
       "4                            python file file-exists  \n",
       "5           python shell terminal subprocess command  \n",
       "6                            python dictionary merge  \n",
       "7   python exception path directory operating-system  \n",
       "8                                  python loops list  \n",
       "9               python oop methods python-decorators  "
      ]
     },
     "execution_count": 100,
     "metadata": {},
     "output_type": "execute_result"
    }
   ],
   "source": [
    "df = pd.DataFrame(datas)\n",
    "df.head(n=10)"
   ]
  },
  {
   "cell_type": "code",
   "execution_count": 103,
   "metadata": {
    "scrolled": false
   },
   "outputs": [
    {
     "data": {
      "text/plain": [
       "(250, 3)"
      ]
     },
     "execution_count": 103,
     "metadata": {},
     "output_type": "execute_result"
    }
   ],
   "source": [
    "df.shape"
   ]
  },
  {
   "cell_type": "code",
   "execution_count": 104,
   "metadata": {},
   "outputs": [],
   "source": [
    "df.to_csv(\"python.csv\", index = False)"
   ]
  },
  {
   "cell_type": "code",
   "execution_count": null,
   "metadata": {},
   "outputs": [],
   "source": []
  }
 ],
 "metadata": {
  "kernelspec": {
   "display_name": "Python 3",
   "language": "python",
   "name": "python3"
  },
  "language_info": {
   "codemirror_mode": {
    "name": "ipython",
    "version": 3
   },
   "file_extension": ".py",
   "mimetype": "text/x-python",
   "name": "python",
   "nbconvert_exporter": "python",
   "pygments_lexer": "ipython3",
   "version": "3.8.3rc1"
  }
 },
 "nbformat": 4,
 "nbformat_minor": 4
}
