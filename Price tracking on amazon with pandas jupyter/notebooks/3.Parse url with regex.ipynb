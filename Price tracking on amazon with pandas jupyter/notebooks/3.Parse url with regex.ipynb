{
 "cells": [
  {
   "cell_type": "code",
   "execution_count": 1,
   "metadata": {
    "scrolled": true
   },
   "outputs": [],
   "source": [
    "import os\n",
    "from requests_html import HTML\n",
    "import requests\n",
    "import time\n",
    "from selenium import webdriver\n",
    "from selenium.webdriver.chrome.options import Options\n",
    "import re"
   ]
  },
  {
   "cell_type": "code",
   "execution_count": 2,
   "metadata": {},
   "outputs": [],
   "source": [
    "options = Options()\n",
    "options.add_argument(\"--headless\")\n",
    "driver = webdriver.Chrome(options= options) # so that browser does not get open everytime we run the code."
   ]
  },
  {
   "cell_type": "code",
   "execution_count": 3,
   "metadata": {},
   "outputs": [],
   "source": [
    "categories = [\n",
    "    \"https://www.amazon.com/Best-Sellers-Toys-Games/zgbs/toys-and-games/\",\n",
    "    \"https://www.amazon.in/gp/bestsellers/electronics/ref=zg_bs_nav_0\",\n",
    "    \"https://www.amazon.in/gp/bestsellers/garden/ref=zg_bs_nav_0\"\n",
    "]"
   ]
  },
  {
   "cell_type": "code",
   "execution_count": 4,
   "metadata": {},
   "outputs": [],
   "source": [
    "first_url = categories[0]\n",
    "driver.get(first_url)\n",
    "body_el = driver.find_element_by_css_selector(\"body\")\n",
    "html_str = body_el.get_attribute(\"innerHTML\")\n",
    "# print(html_str)\n",
    "html_obj = HTML(html = html_str)\n",
    "# print(html_obj)"
   ]
  },
  {
   "cell_type": "code",
   "execution_count": 5,
   "metadata": {
    "scrolled": true
   },
   "outputs": [],
   "source": [
    "new_links = [x for x in html_obj.links if x.startswith(\"/\")]\n",
    "# new_links = [x for x in new_links if \"product-reviews\" not in x]\n",
    "# print(new_links)"
   ]
  },
  {
   "cell_type": "code",
   "execution_count": 6,
   "metadata": {
    "scrolled": true
   },
   "outputs": [],
   "source": [
    "page_links = [f\"https://www.amazon.com{x}\" for x in new_links]\n",
    "# page_links"
   ]
  },
  {
   "cell_type": "code",
   "execution_count": 7,
   "metadata": {},
   "outputs": [],
   "source": [
    "def scrape_product_page(url, title_lookup=\"#productTitle\", price_lookup=\"#priceblock_ourprice\"):\n",
    "    driver.get(url)\n",
    "    print(url)\n",
    "    time.sleep(1.5)\n",
    "    body_el = driver.find_element_by_css_selector(\"body\")\n",
    "    html_str = body_el.get_attribute(\"innerHTML\")\n",
    "    html_obj = HTML(html = html_str)\n",
    "    title = html_obj.find(title_lookup, first=True).text # first= True as find returns a list of elements\n",
    "    price = html_obj.find(price_lookup, first=True).text\n",
    "    return title, price\n",
    "\n",
    "# title , price = scrape_product_page(\"https://www.amazon.in/Samsung-Galaxy-Space-Black-Storage/dp/B07HGN617M/ref=zg_bs_electronics_2?_encoding=UTF8&psc=1&refRID=H64JPJV0KPKTTPF3MGGP\")\n",
    "# print(title, price)\n",
    "\n",
    "# for link in page_links:\n",
    "#     product_price , product_title = None , None\n",
    "#     try:\n",
    "#         product_price , product_title = scrape_product_page(link)\n",
    "#     except:\n",
    "#         pass\n",
    "#     if product_title != None and product_price != None:\n",
    "#         print(link, product_title,product_price)\n",
    "    "
   ]
  },
  {
   "cell_type": "code",
   "execution_count": 8,
   "metadata": {},
   "outputs": [],
   "source": [
    "# https://www.amazon.com/Cartulina-SunWorks-de-Pacon-Negro/dp/B002LARR7Q/ref=zg_bs_toys-and-games_47/145-2143239-3431858?_encoding=UTF8&psc=1&refRID=74QVQYR37NW6EC5D1Z2X\n",
    "# actual url is - https://www.amazon.com/Cartulina-SunWorks-de-Pacon-Negro/dp/B002LARR7Q\n",
    "# base_url/<slug>/dp/<product_id>"
   ]
  },
  {
   "cell_type": "code",
   "execution_count": 9,
   "metadata": {},
   "outputs": [],
   "source": [
    "# my_regex_pattern = r\"https://www.amazon.com/(?P<slug>[\\w-]+)/dp/(?P<product_id>[\\w-]+)/\"\n",
    "# my_url = 'https://www.amazon.com/Crayola-Washable-Watercolors-8-ea/dp/B000HHKAE2/'\n",
    "# regex = re.compile(my_regex_pattern)\n",
    "# match = regex.match(my_url)\n",
    "# print(match)"
   ]
  },
  {
   "cell_type": "code",
   "execution_count": 10,
   "metadata": {},
   "outputs": [],
   "source": [
    "# match['product_id']"
   ]
  },
  {
   "cell_type": "code",
   "execution_count": 11,
   "metadata": {},
   "outputs": [],
   "source": [
    "# match['slug']"
   ]
  },
  {
   "cell_type": "code",
   "execution_count": 12,
   "metadata": {},
   "outputs": [],
   "source": [
    "regex_options = [\n",
    "    r\"https://www.amazon.com/(?P<slug>[\\w-]+)/dp/(?P<product_id>[\\w-]+)/\",\n",
    "    r\"https://www.amazon.com/dp/(?P<product_id>[/w-]+)\",\n",
    "    r\"https://www.amazon.com/gp/product/(?P<product_id>[/w-]+)\"\n",
    "]\n",
    "\n",
    "def extract_product_id_from_url(url):\n",
    "    product_id = None\n",
    "    for regex_str in regex_options:\n",
    "        regex = re.compile(regex_str)\n",
    "        match = regex.match(url)\n",
    "        if match != None:\n",
    "            try:\n",
    "                product_id = match['product_id']\n",
    "            except:\n",
    "                pass\n",
    "        return product_id"
   ]
  },
  {
   "cell_type": "code",
   "execution_count": 13,
   "metadata": {},
   "outputs": [],
   "source": [
    "final_page_links = []\n",
    "def clean_page_links(page_links=[]):\n",
    "    for url in page_links:\n",
    "        product_id = extract_product_id_from_url(url)\n",
    "        if product_id != None:\n",
    "            final_page_links.append({\"url\" :url, \"product_id\":product_id})\n",
    "    return final_page_links"
   ]
  },
  {
   "cell_type": "code",
   "execution_count": 14,
   "metadata": {
    "scrolled": true
   },
   "outputs": [
    {
     "name": "stdout",
     "output_type": "stream",
     "text": [
      "[{'url': 'https://www.amazon.com/Intex-Float-Inflatable-Lounge-Colors/dp/B000OV0X4S/ref=zg_bs_toys-and-games_9/142-2036515-3542607?_encoding=UTF8&psc=1&refRID=R7GXZTBFFG39JZV35DG9', 'product_id': 'B000OV0X4S'}, {'url': 'https://www.amazon.com/Crayola-Shark-Coloring-Pages-Wonder/dp/B07PMLL5L7/ref=zg_bs_toys-and-games_15/142-2036515-3542607?_encoding=UTF8&psc=1&refRID=R7GXZTBFFG39JZV35DG9', 'product_id': 'B07PMLL5L7'}, {'url': 'https://www.amazon.com/Fix-Find-flexible-colorful-Noodles/dp/B004UHED0C/ref=zg_bs_toys-and-games_28/142-2036515-3542607?_encoding=UTF8&psc=1&refRID=R7GXZTBFFG39JZV35DG9', 'product_id': 'B004UHED0C'}, {'url': 'https://www.amazon.com/L-L-Surprise-Surprises-Including/dp/B07XSPCBVP/ref=zg_bs_toys-and-games_10/142-2036515-3542607?_encoding=UTF8&psc=1&refRID=R7GXZTBFFG39JZV35DG9', 'product_id': 'B07XSPCBVP'}, {'url': 'https://www.amazon.com/Aqua-Multi-Purpose-Inflatable-Removable-Resistant/dp/B01N7FHWPY/ref=zg_bs_toys-and-games_1/142-2036515-3542607?_encoding=UTF8&psc=1&refRID=R7GXZTBFFG39JZV35DG9', 'product_id': 'B01N7FHWPY'}, {'url': 'https://www.amazon.com/Child-11-inch-Yoda-like-Figure-Mandalorian/dp/B0825SNHP1/ref=zg_bs_toys-and-games_26/142-2036515-3542607?_encoding=UTF8&psc=1&refRID=R7GXZTBFFG39JZV35DG9', 'product_id': 'B0825SNHP1'}, {'url': 'https://www.amazon.com/SwimWays-Spring-Activity-Center-Canopy/dp/B000WQZD9U/ref=zg_bs_toys-and-games_18/142-2036515-3542607?_encoding=UTF8&psc=1&refRID=R7GXZTBFFG39JZV35DG9', 'product_id': 'B000WQZD9U'}, {'url': 'https://www.amazon.com/Exploding-Kittens-LLC-EKG-ORG1-1-Card/dp/B010TQY7A8/ref=zg_bs_toys-and-games_42/142-2036515-3542607?_encoding=UTF8&psc=1&refRID=R7GXZTBFFG39JZV35DG9', 'product_id': 'B010TQY7A8'}, {'url': 'https://www.amazon.com/Baby-Einstein-Creative-Composer-Musical/dp/B083XNLSN3/ref=zg_bs_toys-and-games_49/142-2036515-3542607?_encoding=UTF8&psc=1&refRID=R7GXZTBFFG39JZV35DG9', 'product_id': 'B083XNLSN3'}, {'url': 'https://www.amazon.com/Talkies-Channels-Backlit-Flashlight-Adventure/dp/B085Y6TS3S/ref=zg_bs_toys-and-games_16/142-2036515-3542607?_encoding=UTF8&psc=1&refRID=R7GXZTBFFG39JZV35DG9', 'product_id': 'B085Y6TS3S'}, {'url': 'https://www.amazon.com/Fisher-Price-Rattle-Rock-Maracas-Orange/dp/B071FLSWBS/ref=zg_bs_toys-and-games_45/142-2036515-3542607?_encoding=UTF8&psc=1&refRID=R7GXZTBFFG39JZV35DG9', 'product_id': 'B071FLSWBS'}, {'url': 'https://www.amazon.com/Munchkin-17040-Fishin-Bath-Toy/dp/B01N52DUNK/ref=zg_bs_toys-and-games_35/142-2036515-3542607?_encoding=UTF8&psc=1&refRID=R7GXZTBFFG39JZV35DG9', 'product_id': 'B01N52DUNK'}, {'url': 'https://www.amazon.com/Manhattan-Toy-Winkel-Sensory-Teether/dp/B000BNCA4K/ref=zg_bs_toys-and-games_46/142-2036515-3542607?_encoding=UTF8&psc=1&refRID=R7GXZTBFFG39JZV35DG9', 'product_id': 'B000BNCA4K'}, {'url': 'https://www.amazon.com/Flybar-Jumper-Toddlers-Durable-Supports/dp/B00WTDXSDM/ref=zg_bs_toys-and-games_19/142-2036515-3542607?_encoding=UTF8&psc=1&refRID=R7GXZTBFFG39JZV35DG9', 'product_id': 'B00WTDXSDM'}, {'url': 'https://www.amazon.com/GEMEM-Geometric-Kindergarten-Educational-Montessori/dp/B07QPS5CFL/ref=zg_bs_toys-and-games_37/142-2036515-3542607?_encoding=UTF8&psc=1&refRID=R7GXZTBFFG39JZV35DG9', 'product_id': 'B07QPS5CFL'}, {'url': 'https://www.amazon.com/Double-Inflatables-Mattresses-Dual-Action-Attachments/dp/B084Y86V3J/ref=zg_bs_toys-and-games_22/142-2036515-3542607?_encoding=UTF8&psc=1&refRID=R7GXZTBFFG39JZV35DG9', 'product_id': 'B084Y86V3J'}, {'url': 'https://www.amazon.com/Crayola-Twistables-Classrooms-Preschools-Self-Sharpening/dp/B00062J99K/ref=zg_bs_toys-and-games_34/142-2036515-3542607?_encoding=UTF8&psc=1&refRID=R7GXZTBFFG39JZV35DG9', 'product_id': 'B00062J99K'}, {'url': 'https://www.amazon.com/Intex-River-Lounge-Inflatable-Diameter/dp/B000PEOMC8/ref=zg_bs_toys-and-games_3/142-2036515-3542607?_encoding=UTF8&psc=1&refRID=R7GXZTBFFG39JZV35DG9', 'product_id': 'B000PEOMC8'}, {'url': 'https://www.amazon.com/Click-Play-Phthalate-Crush-Plastic/dp/B00PYLU3GG/ref=zg_bs_toys-and-games_50/142-2036515-3542607?_encoding=UTF8&psc=1&refRID=R7GXZTBFFG39JZV35DG9', 'product_id': 'B00PYLU3GG'}, {'url': 'https://www.amazon.com/CozyBomB-Magnetic-Fishing-Bathtub-Floating/dp/B07B6NP36Q/ref=zg_bs_toys-and-games_13/142-2036515-3542607?_encoding=UTF8&psc=1&refRID=R7GXZTBFFG39JZV35DG9', 'product_id': 'B07B6NP36Q'}, {'url': 'https://www.amazon.com/WOWMAZING-Giant-Bubble-Wands-Kit/dp/B01CK78BLA/ref=zg_bs_toys-and-games_23/142-2036515-3542607?_encoding=UTF8&psc=1&refRID=R7GXZTBFFG39JZV35DG9', 'product_id': 'B01CK78BLA'}, {'url': 'https://www.amazon.com/Cards-Against-Humanity-LLC-CAHUS/dp/B004S8F7QM/ref=zg_bs_toys-and-games_17/142-2036515-3542607?_encoding=UTF8&psc=1&refRID=R7GXZTBFFG39JZV35DG9', 'product_id': 'B004S8F7QM'}, {'url': 'https://www.amazon.com/First-Years-Stack-Up-Cups/dp/B00005C5H4/ref=zg_bs_toys-and-games_8/142-2036515-3542607?_encoding=UTF8&psc=1&refRID=R7GXZTBFFG39JZV35DG9', 'product_id': 'B00005C5H4'}, {'url': 'https://www.amazon.com/Disney-Pixar-Story-Aliens-Figure/dp/B07HD27YZT/ref=zg_bs_toys-and-games_40/142-2036515-3542607?_encoding=UTF8&psc=1&refRID=R7GXZTBFFG39JZV35DG9', 'product_id': 'B07HD27YZT'}, {'url': 'https://www.amazon.com/Hasbro-A5640-Connect-4-Game/dp/B00D8STBHY/ref=zg_bs_toys-and-games_7/142-2036515-3542607?_encoding=UTF8&psc=1&refRID=R7GXZTBFFG39JZV35DG9', 'product_id': 'B00D8STBHY'}, {'url': 'https://www.amazon.com/Max-Liquidator-3-Pack-Water-Blaster/dp/B082FY363S/ref=zg_bs_toys-and-games_33/142-2036515-3542607?_encoding=UTF8&psc=1&refRID=R7GXZTBFFG39JZV35DG9', 'product_id': 'B082FY363S'}, {'url': 'https://www.amazon.com/Little-Tikes-EasyScore-Basketball-Exclusive/dp/B01C5A2WJO/ref=zg_bs_toys-and-games_36/142-2036515-3542607?_encoding=UTF8&psc=1&refRID=R7GXZTBFFG39JZV35DG9', 'product_id': 'B01C5A2WJO'}, {'url': 'https://www.amazon.com/LEGO-Classic-Green-Baseplate-Supplement/dp/B00NHQF65S/ref=zg_bs_toys-and-games_43/142-2036515-3542607?_encoding=UTF8&psc=1&refRID=R7GXZTBFFG39JZV35DG9', 'product_id': 'B00NHQF65S'}, {'url': 'https://www.amazon.com/First-Princess-Make-Kit-Everything/dp/B07FPWYY79/ref=zg_bs_toys-and-games_20/142-2036515-3542607?_encoding=UTF8&psc=1&refRID=R7GXZTBFFG39JZV35DG9', 'product_id': 'B07FPWYY79'}, {'url': 'https://www.amazon.com/Creativity-Kids-Glow-Dark-Painting/dp/B07SXLYQ6S/ref=zg_bs_toys-and-games_25/142-2036515-3542607?_encoding=UTF8&psc=1&refRID=R7GXZTBFFG39JZV35DG9', 'product_id': 'B07SXLYQ6S'}, {'url': 'https://www.amazon.com/Gazillion-Bubbles-1-Liter-Solution/dp/B001LO9TS8/ref=zg_bs_toys-and-games_21/142-2036515-3542607?_encoding=UTF8&psc=1&refRID=R7GXZTBFFG39JZV35DG9', 'product_id': 'B001LO9TS8'}, {'url': 'https://www.amazon.com/PRINCESSEA-Outdoor-Mermaid-Childrens-Sprinkler/dp/B083V663ZJ/ref=zg_bs_toys-and-games_48/142-2036515-3542607?_encoding=UTF8&psc=1&refRID=R7GXZTBFFG39JZV35DG9', 'product_id': 'B083V663ZJ'}, {'url': 'https://www.amazon.com/Pacon-PAC6555-Lightweight-Construction-Assorted/dp/B0013CDJTS/ref=zg_bs_toys-and-games_27/142-2036515-3542607?_encoding=UTF8&psc=1&refRID=R7GXZTBFFG39JZV35DG9', 'product_id': 'B0013CDJTS'}, {'url': 'https://www.amazon.com/Jasonwell-Sprinkle-Sprinkler-Toddlers-Children/dp/B07LG9CGF1/ref=zg_bs_toys-and-games_29/142-2036515-3542607?_encoding=UTF8&psc=1&refRID=R7GXZTBFFG39JZV35DG9', 'product_id': 'B07LG9CGF1'}, {'url': 'https://www.amazon.com/SplashEZ-Splash-Sprinkler-Toddler-Learning/dp/B0836WRWFY/ref=zg_bs_toys-and-games_4/142-2036515-3542607?_encoding=UTF8&psc=1&refRID=R7GXZTBFFG39JZV35DG9', 'product_id': 'B0836WRWFY'}, {'url': 'https://www.amazon.com/Inflatable-Splash-Sprinkler-Toddlers-Outdoor/dp/B082WXCM5W/ref=zg_bs_toys-and-games_5/142-2036515-3542607?_encoding=UTF8&psc=1&refRID=R7GXZTBFFG39JZV35DG9', 'product_id': 'B082WXCM5W'}, {'url': 'https://www.amazon.com/Bunch-Balloons-Rapid-Fill-Amazon-Exclusive/dp/B07XYQY7SV/ref=zg_bs_toys-and-games_2/142-2036515-3542607?_encoding=UTF8&psc=1&refRID=R7GXZTBFFG39JZV35DG9', 'product_id': 'B07XYQY7SV'}, {'url': 'https://www.amazon.com/Homech-Inflatable-Swimming-Full-Sized-Toddlers/dp/B083PRCZDM/ref=zg_bs_toys-and-games_47/142-2036515-3542607?_encoding=UTF8&psc=1&refRID=R7GXZTBFFG39JZV35DG9', 'product_id': 'B083PRCZDM'}, {'url': 'https://www.amazon.com/First-Years-Disney-Mickey-Squirt/dp/B06Y1G2MH9/ref=zg_bs_toys-and-games_41/142-2036515-3542607?_encoding=UTF8&psc=1&refRID=R7GXZTBFFG39JZV35DG9', 'product_id': 'B06Y1G2MH9'}, {'url': 'https://www.amazon.com/VTech-Sit-to-Stand-Learning-Walker-Blue/dp/B07CRSXMW8/ref=zg_bs_toys-and-games_11/142-2036515-3542607?_encoding=UTF8&psc=1&refRID=R7GXZTBFFG39JZV35DG9', 'product_id': 'B07CRSXMW8'}, {'url': 'https://www.amazon.com/Crayola-12-Ultra-Clean-Washable-Markers/dp/B003HGGPLW/ref=zg_bs_toys-and-games_31/142-2036515-3542607?_encoding=UTF8&psc=1&refRID=R7GXZTBFFG39JZV35DG9', 'product_id': 'B003HGGPLW'}, {'url': 'https://www.amazon.com/Tara-Toys-Barbie-Necklace-Activity/dp/B07WWZBF5G/ref=zg_bs_toys-and-games_6/142-2036515-3542607?_encoding=UTF8&psc=1&refRID=R7GXZTBFFG39JZV35DG9', 'product_id': 'B07WWZBF5G'}, {'url': 'https://www.amazon.com/Play-Doh-Pack-Case-Blue/dp/B07BC152DC/ref=zg_bs_toys-and-games_12/142-2036515-3542607?_encoding=UTF8&psc=1&refRID=R7GXZTBFFG39JZV35DG9', 'product_id': 'B07BC152DC'}, {'url': 'https://www.amazon.com/VTech-Kidizoom-Action-Cam-Yellow/dp/B00XRDHG36/ref=zg_bs_toys-and-games_32/142-2036515-3542607?_encoding=UTF8&psc=1&refRID=R7GXZTBFFG39JZV35DG9', 'product_id': 'B00XRDHG36'}, {'url': 'https://www.amazon.com/Mattel-Games-Official-Amazon-Exclusive/dp/B07P6MZPK3/ref=zg_bs_toys-and-games_14/142-2036515-3542607?_encoding=UTF8&psc=1&refRID=R7GXZTBFFG39JZV35DG9', 'product_id': 'B07P6MZPK3'}, {'url': 'https://www.amazon.com/Kinetic-Sand-Sandtastic-Playset-Tools/dp/B07M5TPM8Q/ref=zg_bs_toys-and-games_39/142-2036515-3542607?_encoding=UTF8&psc=1&refRID=R7GXZTBFFG39JZV35DG9', 'product_id': 'B07M5TPM8Q'}, {'url': 'https://www.amazon.com/Mattel-Games-FPD61-Minecraft-Card/dp/B074RCV4HQ/ref=zg_bs_toys-and-games_30/142-2036515-3542607?_encoding=UTF8&psc=1&refRID=R7GXZTBFFG39JZV35DG9', 'product_id': 'B074RCV4HQ'}, {'url': 'https://www.amazon.com/Little-Tikes-Splash-Water-Table/dp/B00QGSMK8K/ref=zg_bs_toys-and-games_38/142-2036515-3542607?_encoding=UTF8&psc=1&refRID=R7GXZTBFFG39JZV35DG9', 'product_id': 'B00QGSMK8K'}, {'url': 'https://www.amazon.com/Animal-Suncatcher-Refill-Horizon-Group/dp/B07KD24XBS/ref=zg_bs_toys-and-games_44/142-2036515-3542607?_encoding=UTF8&psc=1&refRID=R7GXZTBFFG39JZV35DG9', 'product_id': 'B07KD24XBS'}, {'url': 'https://www.amazon.com/Waterproof-Stickers-Luggage-Scrapbook-Postcard/dp/B07QR3NWGK/ref=zg_bs_toys-and-games_24/142-2036515-3542607?_encoding=UTF8&psc=1&refRID=R7GXZTBFFG39JZV35DG9', 'product_id': 'B07QR3NWGK'}]\n"
     ]
    }
   ],
   "source": [
    "cleaned_page_links = []\n",
    "cleaned_page_links = clean_page_links(page_links)\n",
    "print(cleaned_page_links)"
   ]
  },
  {
   "cell_type": "code",
   "execution_count": 15,
   "metadata": {
    "scrolled": true
   },
   "outputs": [
    {
     "data": {
      "text/plain": [
       "True"
      ]
     },
     "execution_count": 15,
     "metadata": {},
     "output_type": "execute_result"
    }
   ],
   "source": [
    "len(cleaned_page_links) != len(page_links)"
   ]
  },
  {
   "cell_type": "code",
   "execution_count": 16,
   "metadata": {},
   "outputs": [
    {
     "data": {
      "text/plain": [
       "50"
      ]
     },
     "execution_count": 16,
     "metadata": {},
     "output_type": "execute_result"
    }
   ],
   "source": [
    "len(cleaned_page_links)"
   ]
  },
  {
   "cell_type": "code",
   "execution_count": 17,
   "metadata": {},
   "outputs": [
    {
     "data": {
      "text/plain": [
       "206"
      ]
     },
     "execution_count": 17,
     "metadata": {},
     "output_type": "execute_result"
    }
   ],
   "source": [
    "len(page_links)"
   ]
  },
  {
   "cell_type": "code",
   "execution_count": 26,
   "metadata": {},
   "outputs": [],
   "source": [
    "def perform_scrape(cleaned_items = []):\n",
    "    extracted_data = []\n",
    "    print(len(cleaned_items))\n",
    "    for link in cleaned_items:\n",
    "        url = link.get(\"url\")\n",
    "        product_id = link.get(\"product_id\")\n",
    "        product_title, product_price = None , None\n",
    "        try:\n",
    "            product_title, product_price = scrape_product_page(url)\n",
    "         \n",
    "        except:\n",
    "            pass\n",
    "        \n",
    "        if product_title != None and product_price != None:\n",
    "            product_data = {\n",
    "                \"url\":link,\n",
    "                \"product_id\": product_id ,\n",
    "                \"product_title\" : product_title,\n",
    "                \"product_price\": product_price\n",
    "            }\n",
    "            \n",
    "            extracted_data.append(product_data)\n",
    "            \n",
    "    return extracted_data"
   ]
  },
  {
   "cell_type": "code",
   "execution_count": 24,
   "metadata": {
    "scrolled": true
   },
   "outputs": [
    {
     "name": "stdout",
     "output_type": "stream",
     "text": [
      "50\n",
      "https://www.amazon.com/Intex-Float-Inflatable-Lounge-Colors/dp/B000OV0X4S/ref=zg_bs_toys-and-games_9/142-2036515-3542607?_encoding=UTF8&psc=1&refRID=R7GXZTBFFG39JZV35DG9\n",
      "https://www.amazon.com/Crayola-Shark-Coloring-Pages-Wonder/dp/B07PMLL5L7/ref=zg_bs_toys-and-games_15/142-2036515-3542607?_encoding=UTF8&psc=1&refRID=R7GXZTBFFG39JZV35DG9\n",
      "https://www.amazon.com/Fix-Find-flexible-colorful-Noodles/dp/B004UHED0C/ref=zg_bs_toys-and-games_28/142-2036515-3542607?_encoding=UTF8&psc=1&refRID=R7GXZTBFFG39JZV35DG9\n",
      "https://www.amazon.com/L-L-Surprise-Surprises-Including/dp/B07XSPCBVP/ref=zg_bs_toys-and-games_10/142-2036515-3542607?_encoding=UTF8&psc=1&refRID=R7GXZTBFFG39JZV35DG9\n",
      "https://www.amazon.com/Aqua-Multi-Purpose-Inflatable-Removable-Resistant/dp/B01N7FHWPY/ref=zg_bs_toys-and-games_1/142-2036515-3542607?_encoding=UTF8&psc=1&refRID=R7GXZTBFFG39JZV35DG9\n",
      "https://www.amazon.com/Child-11-inch-Yoda-like-Figure-Mandalorian/dp/B0825SNHP1/ref=zg_bs_toys-and-games_26/142-2036515-3542607?_encoding=UTF8&psc=1&refRID=R7GXZTBFFG39JZV35DG9\n",
      "https://www.amazon.com/SwimWays-Spring-Activity-Center-Canopy/dp/B000WQZD9U/ref=zg_bs_toys-and-games_18/142-2036515-3542607?_encoding=UTF8&psc=1&refRID=R7GXZTBFFG39JZV35DG9\n",
      "https://www.amazon.com/Exploding-Kittens-LLC-EKG-ORG1-1-Card/dp/B010TQY7A8/ref=zg_bs_toys-and-games_42/142-2036515-3542607?_encoding=UTF8&psc=1&refRID=R7GXZTBFFG39JZV35DG9\n",
      "https://www.amazon.com/Baby-Einstein-Creative-Composer-Musical/dp/B083XNLSN3/ref=zg_bs_toys-and-games_49/142-2036515-3542607?_encoding=UTF8&psc=1&refRID=R7GXZTBFFG39JZV35DG9\n",
      "https://www.amazon.com/Talkies-Channels-Backlit-Flashlight-Adventure/dp/B085Y6TS3S/ref=zg_bs_toys-and-games_16/142-2036515-3542607?_encoding=UTF8&psc=1&refRID=R7GXZTBFFG39JZV35DG9\n",
      "https://www.amazon.com/Fisher-Price-Rattle-Rock-Maracas-Orange/dp/B071FLSWBS/ref=zg_bs_toys-and-games_45/142-2036515-3542607?_encoding=UTF8&psc=1&refRID=R7GXZTBFFG39JZV35DG9\n",
      "https://www.amazon.com/Munchkin-17040-Fishin-Bath-Toy/dp/B01N52DUNK/ref=zg_bs_toys-and-games_35/142-2036515-3542607?_encoding=UTF8&psc=1&refRID=R7GXZTBFFG39JZV35DG9\n",
      "https://www.amazon.com/Manhattan-Toy-Winkel-Sensory-Teether/dp/B000BNCA4K/ref=zg_bs_toys-and-games_46/142-2036515-3542607?_encoding=UTF8&psc=1&refRID=R7GXZTBFFG39JZV35DG9\n",
      "https://www.amazon.com/Flybar-Jumper-Toddlers-Durable-Supports/dp/B00WTDXSDM/ref=zg_bs_toys-and-games_19/142-2036515-3542607?_encoding=UTF8&psc=1&refRID=R7GXZTBFFG39JZV35DG9\n",
      "https://www.amazon.com/GEMEM-Geometric-Kindergarten-Educational-Montessori/dp/B07QPS5CFL/ref=zg_bs_toys-and-games_37/142-2036515-3542607?_encoding=UTF8&psc=1&refRID=R7GXZTBFFG39JZV35DG9\n",
      "https://www.amazon.com/Double-Inflatables-Mattresses-Dual-Action-Attachments/dp/B084Y86V3J/ref=zg_bs_toys-and-games_22/142-2036515-3542607?_encoding=UTF8&psc=1&refRID=R7GXZTBFFG39JZV35DG9\n",
      "https://www.amazon.com/Crayola-Twistables-Classrooms-Preschools-Self-Sharpening/dp/B00062J99K/ref=zg_bs_toys-and-games_34/142-2036515-3542607?_encoding=UTF8&psc=1&refRID=R7GXZTBFFG39JZV35DG9\n",
      "https://www.amazon.com/Intex-River-Lounge-Inflatable-Diameter/dp/B000PEOMC8/ref=zg_bs_toys-and-games_3/142-2036515-3542607?_encoding=UTF8&psc=1&refRID=R7GXZTBFFG39JZV35DG9\n",
      "https://www.amazon.com/Click-Play-Phthalate-Crush-Plastic/dp/B00PYLU3GG/ref=zg_bs_toys-and-games_50/142-2036515-3542607?_encoding=UTF8&psc=1&refRID=R7GXZTBFFG39JZV35DG9\n",
      "https://www.amazon.com/CozyBomB-Magnetic-Fishing-Bathtub-Floating/dp/B07B6NP36Q/ref=zg_bs_toys-and-games_13/142-2036515-3542607?_encoding=UTF8&psc=1&refRID=R7GXZTBFFG39JZV35DG9\n",
      "https://www.amazon.com/WOWMAZING-Giant-Bubble-Wands-Kit/dp/B01CK78BLA/ref=zg_bs_toys-and-games_23/142-2036515-3542607?_encoding=UTF8&psc=1&refRID=R7GXZTBFFG39JZV35DG9\n",
      "https://www.amazon.com/Cards-Against-Humanity-LLC-CAHUS/dp/B004S8F7QM/ref=zg_bs_toys-and-games_17/142-2036515-3542607?_encoding=UTF8&psc=1&refRID=R7GXZTBFFG39JZV35DG9\n",
      "https://www.amazon.com/First-Years-Stack-Up-Cups/dp/B00005C5H4/ref=zg_bs_toys-and-games_8/142-2036515-3542607?_encoding=UTF8&psc=1&refRID=R7GXZTBFFG39JZV35DG9\n",
      "https://www.amazon.com/Disney-Pixar-Story-Aliens-Figure/dp/B07HD27YZT/ref=zg_bs_toys-and-games_40/142-2036515-3542607?_encoding=UTF8&psc=1&refRID=R7GXZTBFFG39JZV35DG9\n",
      "https://www.amazon.com/Hasbro-A5640-Connect-4-Game/dp/B00D8STBHY/ref=zg_bs_toys-and-games_7/142-2036515-3542607?_encoding=UTF8&psc=1&refRID=R7GXZTBFFG39JZV35DG9\n",
      "https://www.amazon.com/Max-Liquidator-3-Pack-Water-Blaster/dp/B082FY363S/ref=zg_bs_toys-and-games_33/142-2036515-3542607?_encoding=UTF8&psc=1&refRID=R7GXZTBFFG39JZV35DG9\n",
      "https://www.amazon.com/Little-Tikes-EasyScore-Basketball-Exclusive/dp/B01C5A2WJO/ref=zg_bs_toys-and-games_36/142-2036515-3542607?_encoding=UTF8&psc=1&refRID=R7GXZTBFFG39JZV35DG9\n",
      "https://www.amazon.com/LEGO-Classic-Green-Baseplate-Supplement/dp/B00NHQF65S/ref=zg_bs_toys-and-games_43/142-2036515-3542607?_encoding=UTF8&psc=1&refRID=R7GXZTBFFG39JZV35DG9\n",
      "https://www.amazon.com/First-Princess-Make-Kit-Everything/dp/B07FPWYY79/ref=zg_bs_toys-and-games_20/142-2036515-3542607?_encoding=UTF8&psc=1&refRID=R7GXZTBFFG39JZV35DG9\n",
      "https://www.amazon.com/Creativity-Kids-Glow-Dark-Painting/dp/B07SXLYQ6S/ref=zg_bs_toys-and-games_25/142-2036515-3542607?_encoding=UTF8&psc=1&refRID=R7GXZTBFFG39JZV35DG9\n",
      "https://www.amazon.com/Gazillion-Bubbles-1-Liter-Solution/dp/B001LO9TS8/ref=zg_bs_toys-and-games_21/142-2036515-3542607?_encoding=UTF8&psc=1&refRID=R7GXZTBFFG39JZV35DG9\n",
      "https://www.amazon.com/PRINCESSEA-Outdoor-Mermaid-Childrens-Sprinkler/dp/B083V663ZJ/ref=zg_bs_toys-and-games_48/142-2036515-3542607?_encoding=UTF8&psc=1&refRID=R7GXZTBFFG39JZV35DG9\n",
      "https://www.amazon.com/Pacon-PAC6555-Lightweight-Construction-Assorted/dp/B0013CDJTS/ref=zg_bs_toys-and-games_27/142-2036515-3542607?_encoding=UTF8&psc=1&refRID=R7GXZTBFFG39JZV35DG9\n",
      "https://www.amazon.com/Jasonwell-Sprinkle-Sprinkler-Toddlers-Children/dp/B07LG9CGF1/ref=zg_bs_toys-and-games_29/142-2036515-3542607?_encoding=UTF8&psc=1&refRID=R7GXZTBFFG39JZV35DG9\n",
      "https://www.amazon.com/SplashEZ-Splash-Sprinkler-Toddler-Learning/dp/B0836WRWFY/ref=zg_bs_toys-and-games_4/142-2036515-3542607?_encoding=UTF8&psc=1&refRID=R7GXZTBFFG39JZV35DG9\n",
      "https://www.amazon.com/Inflatable-Splash-Sprinkler-Toddlers-Outdoor/dp/B082WXCM5W/ref=zg_bs_toys-and-games_5/142-2036515-3542607?_encoding=UTF8&psc=1&refRID=R7GXZTBFFG39JZV35DG9\n",
      "https://www.amazon.com/Bunch-Balloons-Rapid-Fill-Amazon-Exclusive/dp/B07XYQY7SV/ref=zg_bs_toys-and-games_2/142-2036515-3542607?_encoding=UTF8&psc=1&refRID=R7GXZTBFFG39JZV35DG9\n",
      "https://www.amazon.com/Homech-Inflatable-Swimming-Full-Sized-Toddlers/dp/B083PRCZDM/ref=zg_bs_toys-and-games_47/142-2036515-3542607?_encoding=UTF8&psc=1&refRID=R7GXZTBFFG39JZV35DG9\n",
      "https://www.amazon.com/First-Years-Disney-Mickey-Squirt/dp/B06Y1G2MH9/ref=zg_bs_toys-and-games_41/142-2036515-3542607?_encoding=UTF8&psc=1&refRID=R7GXZTBFFG39JZV35DG9\n",
      "https://www.amazon.com/VTech-Sit-to-Stand-Learning-Walker-Blue/dp/B07CRSXMW8/ref=zg_bs_toys-and-games_11/142-2036515-3542607?_encoding=UTF8&psc=1&refRID=R7GXZTBFFG39JZV35DG9\n",
      "https://www.amazon.com/Crayola-12-Ultra-Clean-Washable-Markers/dp/B003HGGPLW/ref=zg_bs_toys-and-games_31/142-2036515-3542607?_encoding=UTF8&psc=1&refRID=R7GXZTBFFG39JZV35DG9\n",
      "https://www.amazon.com/Tara-Toys-Barbie-Necklace-Activity/dp/B07WWZBF5G/ref=zg_bs_toys-and-games_6/142-2036515-3542607?_encoding=UTF8&psc=1&refRID=R7GXZTBFFG39JZV35DG9\n",
      "https://www.amazon.com/Play-Doh-Pack-Case-Blue/dp/B07BC152DC/ref=zg_bs_toys-and-games_12/142-2036515-3542607?_encoding=UTF8&psc=1&refRID=R7GXZTBFFG39JZV35DG9\n",
      "https://www.amazon.com/VTech-Kidizoom-Action-Cam-Yellow/dp/B00XRDHG36/ref=zg_bs_toys-and-games_32/142-2036515-3542607?_encoding=UTF8&psc=1&refRID=R7GXZTBFFG39JZV35DG9\n",
      "https://www.amazon.com/Mattel-Games-Official-Amazon-Exclusive/dp/B07P6MZPK3/ref=zg_bs_toys-and-games_14/142-2036515-3542607?_encoding=UTF8&psc=1&refRID=R7GXZTBFFG39JZV35DG9\n",
      "https://www.amazon.com/Kinetic-Sand-Sandtastic-Playset-Tools/dp/B07M5TPM8Q/ref=zg_bs_toys-and-games_39/142-2036515-3542607?_encoding=UTF8&psc=1&refRID=R7GXZTBFFG39JZV35DG9\n",
      "https://www.amazon.com/Mattel-Games-FPD61-Minecraft-Card/dp/B074RCV4HQ/ref=zg_bs_toys-and-games_30/142-2036515-3542607?_encoding=UTF8&psc=1&refRID=R7GXZTBFFG39JZV35DG9\n",
      "https://www.amazon.com/Little-Tikes-Splash-Water-Table/dp/B00QGSMK8K/ref=zg_bs_toys-and-games_38/142-2036515-3542607?_encoding=UTF8&psc=1&refRID=R7GXZTBFFG39JZV35DG9\n"
     ]
    },
    {
     "name": "stdout",
     "output_type": "stream",
     "text": [
      "https://www.amazon.com/Animal-Suncatcher-Refill-Horizon-Group/dp/B07KD24XBS/ref=zg_bs_toys-and-games_44/142-2036515-3542607?_encoding=UTF8&psc=1&refRID=R7GXZTBFFG39JZV35DG9\n",
      "https://www.amazon.com/Waterproof-Stickers-Luggage-Scrapbook-Postcard/dp/B07QR3NWGK/ref=zg_bs_toys-and-games_24/142-2036515-3542607?_encoding=UTF8&psc=1&refRID=R7GXZTBFFG39JZV35DG9\n",
      "[]\n"
     ]
    }
   ],
   "source": [
    "data_extracted = perform_scrape(cleaned_items = cleaned_page_links)\n",
    "print(data_extracted)"
   ]
  },
  {
   "cell_type": "code",
   "execution_count": null,
   "metadata": {},
   "outputs": [],
   "source": []
  }
 ],
 "metadata": {
  "kernelspec": {
   "display_name": "Python 3",
   "language": "python",
   "name": "python3"
  },
  "language_info": {
   "codemirror_mode": {
    "name": "ipython",
    "version": 3
   },
   "file_extension": ".py",
   "mimetype": "text/x-python",
   "name": "python",
   "nbconvert_exporter": "python",
   "pygments_lexer": "ipython3",
   "version": "3.8.3rc1"
  }
 },
 "nbformat": 4,
 "nbformat_minor": 4
}
