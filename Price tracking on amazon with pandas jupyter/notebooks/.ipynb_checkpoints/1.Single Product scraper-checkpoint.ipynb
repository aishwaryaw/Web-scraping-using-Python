{
 "cells": [
  {
   "cell_type": "code",
   "execution_count": 13,
   "metadata": {
    "scrolled": true
   },
   "outputs": [],
   "source": [
    "import os\n",
    "from requests_html import HTML\n",
    "import requests\n",
    "import time\n",
    "from selenium import webdriver\n",
    "from selenium.webdriver.chrome.options import Options"
   ]
  },
  {
   "cell_type": "code",
   "execution_count": 2,
   "metadata": {},
   "outputs": [],
   "source": [
    "options = Options()\n",
    "options.add_argument(\"--headless\")\n",
    "driver = webdriver.Chrome(options= options) # so that browser does not get open everytime we run the code."
   ]
  },
  {
   "cell_type": "code",
   "execution_count": 16,
   "metadata": {},
   "outputs": [],
   "source": [
    "url = \"https://www.amazon.in/Lenovo-Tab-M10-32GB-WiFi/dp/B083SNXY9B/ref=lp_1375458031_1_1?s=computers&ie=UTF8&qid=1591716799&sr=1-1\"\n",
    "#<span id=\"productTitle\" class=\"a-size-large\">\n",
    "product_title = \"#productTitle\"\n",
    "#<span id=\"priceblock_ourprice\" class=\"a-size-medium a-color-price priceBlockBuyingPriceString\">₹&nbsp;1,799.00</span>\n",
    "product_price = \"#priceblock_ourprice\""
   ]
  },
  {
   "cell_type": "code",
   "execution_count": null,
   "metadata": {},
   "outputs": [],
   "source": [
    "# requests is not woeking with amazon , hence wew use selenium\n",
    "# r = requests.get(url)\n",
    "# html_str = r.text\n",
    "# print(r.text)\n",
    "# html_obj = HTML(html = html_str)\n",
    "# title = html_obj.find(product_title, first = True).text\n",
    "# print(title) "
   ]
  },
  {
   "cell_type": "code",
   "execution_count": 7,
   "metadata": {
    "scrolled": true
   },
   "outputs": [],
   "source": [
    "driver.get(url)\n",
    "body_el = driver.find_element_by_css_selector(\"body\")\n",
    "html_str = body_el.get_attribute(\"innerHTML\")\n",
    "# print(html_str)"
   ]
  },
  {
   "cell_type": "code",
   "execution_count": 18,
   "metadata": {
    "scrolled": true
   },
   "outputs": [
    {
     "name": "stdout",
     "output_type": "stream",
     "text": [
      "Lenovo Tab M10 HD (2GB, 32GB, WiFi) Slate Black\n",
      "₹ 10,999.00\n"
     ]
    }
   ],
   "source": [
    "html_obj = HTML(html = html_str)\n",
    "title = html_obj.find(product_title, first=True).text\n",
    "print(title)\n",
    "price = html_obj.find(product_price,  first=True).text\n",
    "print(price)"
   ]
  },
  {
   "cell_type": "code",
   "execution_count": 24,
   "metadata": {
    "scrolled": false
   },
   "outputs": [
    {
     "name": "stdout",
     "output_type": "stream",
     "text": [
      "Lenovo Tab M10 HD (2GB, 32GB, WiFi) Slate Black\n",
      "₹ 10,999.00\n"
     ]
    }
   ],
   "source": [
    "# we can use either of the method above method or this method using selenium , we get same output\n",
    "# title_el = driver.find_element_by_css_selector(\"span[id='productTitle']\")\n",
    "# print(title_el.text)\n",
    "# price_el = driver.find_element_by_css_selector(\"span[id='priceblock_ourprice']\")\n",
    "# print(price_el.text)"
   ]
  },
  {
   "cell_type": "code",
   "execution_count": null,
   "metadata": {},
   "outputs": [],
   "source": []
  }
 ],
 "metadata": {
  "kernelspec": {
   "display_name": "Python 3",
   "language": "python",
   "name": "python3"
  },
  "language_info": {
   "codemirror_mode": {
    "name": "ipython",
    "version": 3
   },
   "file_extension": ".py",
   "mimetype": "text/x-python",
   "name": "python",
   "nbconvert_exporter": "python",
   "pygments_lexer": "ipython3",
   "version": "3.8.3rc1"
  }
 },
 "nbformat": 4,
 "nbformat_minor": 4
}
